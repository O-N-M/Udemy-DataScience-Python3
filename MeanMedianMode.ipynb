{
 "cells": [
  {
   "cell_type": "markdown",
   "metadata": {},
   "source": [
    "# Mean, Median, Mode, and introducing NumPy"
   ]
  },
  {
   "cell_type": "markdown",
   "metadata": {},
   "source": [
    "## Mean vs. Median"
   ]
  },
  {
   "cell_type": "markdown",
   "metadata": {},
   "source": [
    "Let's create some fake income data, centered around 27,000 with a normal distribution and standard deviation of 15,000, with 10,000 data points. (We'll discuss those terms more later, if you're not familiar with them.)\n",
    "\n",
    "Then, compute the mean (average) - it should be close to 27,000:"
   ]
  },
  {
   "cell_type": "code",
   "execution_count": 1,
   "metadata": {},
   "outputs": [
    {
     "data": {
      "text/plain": [
       "27118.389415715115"
      ]
     },
     "execution_count": 1,
     "metadata": {},
     "output_type": "execute_result"
    }
   ],
   "source": [
    "import numpy as np\n",
    "\n",
    "incomes = np.random.normal(27000, 15000, 10000)\n",
    "np.mean(incomes)"
   ]
  },
  {
   "cell_type": "markdown",
   "metadata": {},
   "source": [
    "We can segment the income data into 50 buckets, and plot it as a histogram:"
   ]
  },
  {
   "cell_type": "code",
   "execution_count": 2,
   "metadata": {},
   "outputs": [
    {
     "data": {
      "image/png": "[encoded data removed]",
      "text/plain": [
       "<matplotlib.figure.Figure at 0x9edd4a8>"
      ]
     },
     "metadata": {},
     "output_type": "display_data"
    }
   ],
   "source": [
    "%matplotlib inline\n",
    "import matplotlib.pyplot as plt\n",
    "plt.hist(incomes, 50)\n",
    "plt.show()"
   ]
  },
  {
   "cell_type": "markdown",
   "metadata": {},
   "source": [
    "Now compute the median - since we have a nice, even distribution it too should be close to 27,000:"
   ]
  },
  {
   "cell_type": "code",
   "execution_count": 3,
   "metadata": {},
   "outputs": [
    {
     "data": {
      "text/plain": [
       "26997.533353903687"
      ]
     },
     "execution_count": 3,
     "metadata": {},
     "output_type": "execute_result"
    }
   ],
   "source": [
    "np.median(incomes)"
   ]
  },
  {
   "cell_type": "markdown",
   "metadata": {},
   "source": [
    "Now we'll add Donald Trump into the mix. Darn income inequality!"
   ]
  },
  {
   "cell_type": "code",
   "execution_count": 4,
   "metadata": {},
   "outputs": [],
   "source": [
    "incomes = np.append(incomes, [1000000000])"
   ]
  },
  {
   "cell_type": "markdown",
   "metadata": {},
   "source": [
    "The median won't change much, but the mean does:"
   ]
  },
  {
   "cell_type": "code",
   "execution_count": 5,
   "metadata": {},
   "outputs": [
    {
     "data": {
      "text/plain": [
       "27003.972691200644"
      ]
     },
     "execution_count": 5,
     "metadata": {},
     "output_type": "execute_result"
    }
   ],
   "source": [
    "np.median(incomes)"
   ]
  },
  {
   "cell_type": "code",
   "execution_count": 6,
   "metadata": {},
   "outputs": [
    {
     "data": {
      "text/plain": [
       "127105.67884783034"
      ]
     },
     "execution_count": 6,
     "metadata": {},
     "output_type": "execute_result"
    }
   ],
   "source": [
    "np.mean(incomes)"
   ]
  },
  {
   "cell_type": "markdown",
   "metadata": {},
   "source": [
    "## Mode"
   ]
  },
  {
   "cell_type": "markdown",
   "metadata": {},
   "source": [
    "Next, let's generate some fake age data for 500 people:"
   ]
  },
  {
   "cell_type": "code",
   "execution_count": 19,
   "metadata": {},
   "outputs": [
    {
     "data": {
      "text/plain": [
       "array([27, 78, 85, 18, 31, 71, 49, 30, 18, 60, 41, 32, 83, 57, 54, 27, 26,\n",
       "       22, 29, 38, 72, 49, 67, 37, 70, 55, 69, 33, 51, 27, 70, 30, 37, 83,\n",
       "       82, 59, 63, 71, 53, 53, 67, 43, 81, 87, 64, 54, 65, 49, 18, 19, 46,\n",
       "       79, 27, 42, 75, 27, 80, 27, 51, 56, 26, 57, 79, 79, 35, 78, 43, 36,\n",
       "       43, 31, 29, 86, 21, 33, 48, 25, 87, 81, 55, 49, 68, 66, 67, 20, 61,\n",
       "       58, 75, 32, 80, 25, 73, 45, 41, 62, 76, 53, 50, 52, 41, 24, 34, 47,\n",
       "       60, 84, 61, 47, 18, 77, 42, 72, 76, 22, 75, 26, 19, 64, 61, 27, 76,\n",
       "       42, 28, 45, 33, 28, 64, 86, 40, 25, 30, 53, 54, 89, 42, 20, 81, 74,\n",
       "       56, 73, 45, 38, 82, 51, 69, 34, 26, 25, 20, 70, 34, 29, 75, 58, 87,\n",
       "       22, 59, 21, 43, 81, 32, 30, 87, 48, 20, 33, 66, 65, 85, 56, 66, 63,\n",
       "       30, 43, 45, 62, 46, 50, 87, 50, 70, 45, 82, 62, 46, 37, 68, 70, 18,\n",
       "       58, 34, 26, 26, 27, 42, 53, 26, 77, 45, 67, 57, 32, 46, 62, 65, 69,\n",
       "       34, 18, 50, 80, 82, 75, 27, 19, 74, 85, 47, 47, 40, 37, 51, 69, 83,\n",
       "       62, 27, 32, 56, 46, 38, 34, 88, 83, 47, 31, 40, 83, 27, 53, 20, 80,\n",
       "       79, 76, 72, 44, 75, 51, 33, 51, 23, 65, 82, 73, 71, 70, 48, 32, 32,\n",
       "       37, 82, 58, 67, 86, 63, 79, 45, 64, 23, 84, 76, 18, 79, 20, 68, 55,\n",
       "       77, 40, 85, 66, 83, 66, 78, 55, 30, 78, 29, 75, 48, 27, 39, 88, 83,\n",
       "       86, 27, 65, 80, 66, 76, 35, 63, 39, 76, 87, 55, 77, 67, 43, 77, 87,\n",
       "       72, 68, 53, 26, 73, 38, 64, 47, 74, 87, 19, 86, 23, 80, 22, 42, 59,\n",
       "       61, 41, 77, 77, 41, 45, 38, 60, 68, 18, 48, 62, 36, 82, 46, 77, 56,\n",
       "       67, 65, 66, 73, 46, 68, 58, 34, 21, 67, 23, 34, 65, 26, 29, 39, 87,\n",
       "       83, 22, 41, 67, 58, 40, 78, 22, 38, 35, 80, 70, 19, 35, 88, 61, 81,\n",
       "       53, 19, 36, 43, 69, 24, 70, 30, 46, 76, 50, 81, 23, 51, 29, 46, 37,\n",
       "       53, 79, 86, 68, 59, 37, 24, 46, 48, 81, 22, 22, 67, 89, 49, 58, 42,\n",
       "       38, 63, 48, 56, 31, 35, 30, 51, 74, 22, 30, 22, 86, 48, 20, 40, 89,\n",
       "       45, 88, 28, 43, 72, 56, 56, 42, 83, 56, 40, 18, 65, 30, 44, 65, 79,\n",
       "       69, 51, 67, 28, 42, 77, 88, 85, 71, 33, 42, 38, 21, 36, 84, 31, 38,\n",
       "       32, 48, 52, 82, 37, 56, 67, 69, 33, 18, 50, 65, 42, 21, 20, 86, 29,\n",
       "       67, 48, 37, 89, 82, 48, 57, 68, 23, 75, 49, 56, 23, 83, 41, 66, 48,\n",
       "       77, 18, 26, 68, 31, 64, 62])"
      ]
     },
     "execution_count": 19,
     "metadata": {},
     "output_type": "execute_result"
    }
   ],
   "source": [
    "ages = np.random.randint(18, high=90, size=500)\n",
    "ages"
   ]
  },
  {
   "cell_type": "code",
   "execution_count": 20,
   "metadata": {},
   "outputs": [
    {
     "data": {
      "text/plain": [
       "ModeResult(mode=array([27]), count=array([13]))"
      ]
     },
     "execution_count": 20,
     "metadata": {},
     "output_type": "execute_result"
    }
   ],
   "source": [
    "from scipy import stats\n",
    "stats.mode(ages)"
   ]
  },
  {
   "cell_type": "code",
   "execution_count": 22,
   "metadata": {},
   "outputs": [
    {
     "data": {
      "text/plain": [
       "4"
      ]
     },
     "execution_count": 22,
     "metadata": {},
     "output_type": "execute_result"
    }
   ],
   "source": [
    "lst = [1, 2, 45, 55, 5, 4, 4, 4, 4, 4, 4, 5456, 56, 6, 7, 67]\n",
    "max(lst,key=lst.count)"
   ]
  },
  {
   "cell_type": "code",
   "execution_count": 29,
   "metadata": {},
   "outputs": [
    {
     "name": "stdout",
     "output_type": "stream",
     "text": [
      "27 13\n"
     ]
    }
   ],
   "source": [
    "from collections import Counter\n",
    "most_common,num_most_common = Counter(ages).most_common(1)[0]\n",
    "print (most_common,num_most_common)"
   ]
  },
  {
   "cell_type": "code",
   "execution_count": 30,
   "metadata": {},
   "outputs": [
    {
     "name": "stdout",
     "output_type": "stream",
     "text": [
      "(4, 6)\n"
     ]
    }
   ],
   "source": [
    "from collections import defaultdict\n",
    "\n",
    "L = [1,2,45,55,5,4,4,4,4,4,4,5456,56,6,7,67]\n",
    "d = defaultdict(int)\n",
    "for i in L:\n",
    "    d[i] += 1\n",
    "result = max(d.items(), key=lambda x: x[1])\n",
    "print (result)"
   ]
  },
  {
   "cell_type": "code",
   "execution_count": 31,
   "metadata": {},
   "outputs": [
    {
     "name": "stdout",
     "output_type": "stream",
     "text": [
      "(27, 13)\n"
     ]
    }
   ],
   "source": [
    "from collections import defaultdict\n",
    "\n",
    "d = defaultdict(int)\n",
    "for i in ages:\n",
    "    d[i] += 1\n",
    "result = max(d.items(), key=lambda x: x[1])\n",
    "print (result)"
   ]
  },
  {
   "cell_type": "code",
   "execution_count": null,
   "metadata": {
    "collapsed": true
   },
   "outputs": [],
   "source": []
  }
 ],
 "metadata": {
  "kernelspec": {
   "display_name": "Python 3",
   "language": "python",
   "name": "python3"
  },
  "language_info": {
   "codemirror_mode": {
    "name": "ipython",
    "version": 3
   },
   "file_extension": ".py",
   "mimetype": "text/x-python",
   "name": "python",
   "nbconvert_exporter": "python",
   "pygments_lexer": "ipython3",
   "version": "3.6.3"
  }
 },
 "nbformat": 4,
 "nbformat_minor": 1
}
